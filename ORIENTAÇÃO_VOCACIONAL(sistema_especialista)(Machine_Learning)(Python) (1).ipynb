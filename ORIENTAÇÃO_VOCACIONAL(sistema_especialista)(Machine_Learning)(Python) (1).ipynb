{
  "nbformat": 4,
  "nbformat_minor": 0,
  "metadata": {
    "colab": {
      "provenance": []
    },
    "kernelspec": {
      "name": "python3",
      "display_name": "Python 3"
    },
    "language_info": {
      "name": "python"
    }
  },
  "cells": [
    {
      "cell_type": "code",
      "execution_count": null,
      "metadata": {
        "id": "WkRY14AYRr2T"
      },
      "outputs": [],
      "source": [
        "# ORIENTAÇÃO VOCACIONAL\n",
        "#\n",
        "# | CURSOS                   | TEMPO         | FOCO                                 |\n",
        "# | Sistemas de Informação   | 4 anos e meio | Sistemas de informação comerciais    |\n",
        "# | Rede de computadores/    | 4 anos        | Rede de computadores                 |\n",
        "# | Desenvolvimento de games | 2 anos e meio | Jogos                                |\n",
        "# | Engenharia de software   | 5 anos        | Análise e modelagem de software      |\n",
        "# | Engenharia da computação | 5 anos        | Hardware                             |\n",
        "# | Engenharia da computação | 5 anos        | Pesquisa em computação               |\n",
        "#\n",
        "#\n",
        "\n",
        "def sistema_especialista():\n",
        "    # Variáveis\n",
        "    cursos = [\"Ciência da Computação\", \"Engenharia da Computação\", \"Engenharia de Software\", \"Desenvolvimento de games\", \"Rede de computadores\", \"Sistemas de Informação\"]\n",
        "    foco = input(\"Informe o foco desejado: \")\n",
        "    tempo = input(\"Informe o tempo de duração do curso: \")\n",
        "\n",
        "    # Regras\n",
        "    if tempo == \"2 anos e meio\" and foco == \"Jogos\":\n",
        "        cursos_sugeridos = [\"Desenvolvimento de games\"]\n",
        "    elif tempo == \"4 anos e meio\" and foco == \"Sistemas de informação comerciais\":\n",
        "        cursos_sugeridos = [\"Sistemas de Informação\"]\n",
        "    elif tempo == \"5 anos\" and foco == \"Hardware\":\n",
        "        cursos_sugeridos = [\"Engenharia da Computação\"]\n",
        "    elif tempo == \"5 anos\" and foco == \"Análise e modelagem de software\":\n",
        "        cursos_sugeridos = [\"Engenharia de Software\"]\n",
        "    elif tempo == \"4 anos\" and foco == \"Rede de computadores\":\n",
        "        cursos_sugeridos = [\"Rede de computadores\"]\n",
        "    elif tempo == \"5 anos\" and foco == \"Pesquisa em computação\":\n",
        "        cursos_sugeridos = [\"Engenharia da Computação\"]\n",
        "    else:\n",
        "        cursos_sugeridos = []\n",
        "\n",
        "    # Saída\n",
        "    if cursos_sugeridos:\n",
        "        print(\"Cursos sugeridos: \", cursos_sugeridos)\n",
        "    else:\n",
        "        print(\"Não foi possível determinar cursos sugeridos.\")\n",
        "\n",
        "sistema_especialista()\n"
      ]
    }
  ]
}